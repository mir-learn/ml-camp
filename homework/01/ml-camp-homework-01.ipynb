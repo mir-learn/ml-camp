{
 "cells": [
  {
   "cell_type": "code",
   "execution_count": 3,
   "id": "fd33146c-c462-448a-826b-fc7c1882e9ae",
   "metadata": {},
   "outputs": [],
   "source": [
    "import numpy as np\n",
    "import pandas as pd"
   ]
  },
  {
   "cell_type": "code",
   "execution_count": 5,
   "id": "d5bc9e92-a52c-4420-bd24-b7ea192251e8",
   "metadata": {},
   "outputs": [],
   "source": [
    "cars_list = pd.read_csv(\"car_fuel_efficiency.csv\")"
   ]
  },
  {
   "cell_type": "code",
   "execution_count": 6,
   "id": "5216c37d-412e-49fc-a06c-c24cf52edd92",
   "metadata": {},
   "outputs": [
    {
     "data": {
      "text/plain": [
       "'2.3.2'"
      ]
     },
     "execution_count": 6,
     "metadata": {},
     "output_type": "execute_result"
    }
   ],
   "source": [
    "pd.__version__"
   ]
  },
  {
   "cell_type": "code",
   "execution_count": 7,
   "id": "2ac9b5d4-de4c-474d-a6ab-4abbbe4e5e67",
   "metadata": {},
   "outputs": [],
   "source": [
    "# Q2\n",
    "# How many records are in the dataset?"
   ]
  },
  {
   "cell_type": "code",
   "execution_count": 8,
   "id": "bcd76658-22ce-4fc0-8163-2cb129acfb07",
   "metadata": {},
   "outputs": [
    {
     "data": {
      "text/plain": [
       "RangeIndex(start=0, stop=9704, step=1)"
      ]
     },
     "execution_count": 8,
     "metadata": {},
     "output_type": "execute_result"
    }
   ],
   "source": [
    "cars_list.index"
   ]
  },
  {
   "cell_type": "code",
   "execution_count": 9,
   "id": "f1e81fdd-151a-42ae-9cb8-40e78f7eff26",
   "metadata": {},
   "outputs": [],
   "source": [
    "# Q3. Fuel types"
   ]
  },
  {
   "cell_type": "code",
   "execution_count": 10,
   "id": "2e1282f1-582b-443c-b412-e060b378699c",
   "metadata": {},
   "outputs": [
    {
     "data": {
      "text/plain": [
       "2"
      ]
     },
     "execution_count": 10,
     "metadata": {},
     "output_type": "execute_result"
    }
   ],
   "source": [
    "cars_list.fuel_type.nunique()"
   ]
  },
  {
   "cell_type": "code",
   "execution_count": null,
   "id": "4305ceb5-57e3-45c3-a312-059d657605b1",
   "metadata": {},
   "outputs": [],
   "source": [
    "# Q4. Missing values"
   ]
  },
  {
   "cell_type": "code",
   "execution_count": 13,
   "id": "04648a9b-5439-4bfc-95a8-4bd1adbcaf22",
   "metadata": {},
   "outputs": [
    {
     "data": {
      "text/plain": [
       "engine_displacement      0\n",
       "num_cylinders          482\n",
       "horsepower             708\n",
       "vehicle_weight           0\n",
       "acceleration           930\n",
       "model_year               0\n",
       "origin                   0\n",
       "fuel_type                0\n",
       "drivetrain               0\n",
       "num_doors              502\n",
       "fuel_efficiency_mpg      0\n",
       "dtype: int64"
      ]
     },
     "execution_count": 13,
     "metadata": {},
     "output_type": "execute_result"
    }
   ],
   "source": [
    "cars_list.isnull().sum()"
   ]
  },
  {
   "cell_type": "code",
   "execution_count": 14,
   "id": "a5eec311-2385-4d4c-8dbb-44bc0d729990",
   "metadata": {},
   "outputs": [],
   "source": [
    "# Q5. Max fuel efficiency\n"
   ]
  },
  {
   "cell_type": "code",
   "execution_count": 17,
   "id": "5d7e9ce9-e2ff-4f92-b0b8-567a7f4447cb",
   "metadata": {},
   "outputs": [
    {
     "data": {
      "text/plain": [
       "23.759122836520497"
      ]
     },
     "execution_count": 17,
     "metadata": {},
     "output_type": "execute_result"
    }
   ],
   "source": [
    "cars_list[cars_list['origin'] == 'Asia']['fuel_efficiency_mpg'].max()"
   ]
  },
  {
   "cell_type": "code",
   "execution_count": 18,
   "id": "35566308-03f4-41ac-802e-7318c10d5421",
   "metadata": {},
   "outputs": [],
   "source": [
    "# Q6. Median value of horsepower"
   ]
  },
  {
   "cell_type": "code",
   "execution_count": 20,
   "id": "f7aef05f-0a54-4afe-8335-95f1664e619d",
   "metadata": {},
   "outputs": [
    {
     "data": {
      "text/plain": [
       "149.0"
      ]
     },
     "execution_count": 20,
     "metadata": {},
     "output_type": "execute_result"
    }
   ],
   "source": [
    "cars_list['horsepower'].median()"
   ]
  },
  {
   "cell_type": "code",
   "execution_count": 21,
   "id": "bc2ce80e-d29a-4b7e-bc8d-232d28abaff9",
   "metadata": {},
   "outputs": [
    {
     "data": {
      "text/plain": [
       "0    152.0\n",
       "Name: horsepower, dtype: float64"
      ]
     },
     "execution_count": 21,
     "metadata": {},
     "output_type": "execute_result"
    }
   ],
   "source": [
    "cars_list['horsepower'].mode()"
   ]
  },
  {
   "cell_type": "code",
   "execution_count": 27,
   "id": "212e6e4f-d166-4670-bc9e-488153a03809",
   "metadata": {},
   "outputs": [],
   "source": [
    "most_freq_value = cars_list['horsepower'].mode()[0]"
   ]
  },
  {
   "cell_type": "code",
   "execution_count": 28,
   "id": "bdc96ef6-2099-42cf-b193-0a3231092218",
   "metadata": {},
   "outputs": [],
   "source": [
    "cars_list['horsepower'] = cars_list['horsepower'].fillna(most_freq_value)"
   ]
  },
  {
   "cell_type": "code",
   "execution_count": 30,
   "id": "9fd00db2-8eac-46b1-a8f6-dfbf01906760",
   "metadata": {},
   "outputs": [
    {
     "data": {
      "text/plain": [
       "152.0"
      ]
     },
     "execution_count": 30,
     "metadata": {},
     "output_type": "execute_result"
    }
   ],
   "source": [
    "cars_list['horsepower'].median()"
   ]
  },
  {
   "cell_type": "code",
   "execution_count": null,
   "id": "5d0b8bfb-5b73-4a32-ba22-c489c457535a",
   "metadata": {},
   "outputs": [],
   "source": [
    "# Q7. Sum of weights"
   ]
  },
  {
   "cell_type": "code",
   "execution_count": 31,
   "id": "ab0150a0-8356-423e-bcd7-0ced9b595c29",
   "metadata": {},
   "outputs": [],
   "source": [
    "X = cars_list[cars_list['origin'] == 'Asia'][['vehicle_weight', 'model_year']].head(7).to_numpy()"
   ]
  },
  {
   "cell_type": "code",
   "execution_count": 32,
   "id": "d88969de-5e8b-4ac2-8ee4-b2202f55560a",
   "metadata": {},
   "outputs": [],
   "source": [
    "XTX = X.T.dot(X)"
   ]
  },
  {
   "cell_type": "code",
   "execution_count": 33,
   "id": "c8656ca4-359a-43df-80f4-741dd5884822",
   "metadata": {},
   "outputs": [],
   "source": [
    "XTX_inv = np.linalg.inv(XTX)"
   ]
  },
  {
   "cell_type": "code",
   "execution_count": 34,
   "id": "c772d1a8-9a3e-4bd1-a41d-b8e090520e57",
   "metadata": {},
   "outputs": [],
   "source": [
    "y = np.array([1100, 1300, 800, 900, 1000, 1100, 1200])"
   ]
  },
  {
   "cell_type": "code",
   "execution_count": 35,
   "id": "daf17fac-ab4e-49fe-b027-ba8ececa424c",
   "metadata": {},
   "outputs": [],
   "source": [
    "w = XTX_inv.dot(X.T).dot(y)"
   ]
  },
  {
   "cell_type": "code",
   "execution_count": 37,
   "id": "931d4305-ee8d-4f31-a869-00b61d248663",
   "metadata": {},
   "outputs": [],
   "source": [
    "w_sum = w.sum()"
   ]
  },
  {
   "cell_type": "code",
   "execution_count": 38,
   "id": "ef600ee7-43ad-461e-a6ca-d242fbf53c66",
   "metadata": {},
   "outputs": [
    {
     "data": {
      "text/plain": [
       "np.float64(0.5187709081074017)"
      ]
     },
     "execution_count": 38,
     "metadata": {},
     "output_type": "execute_result"
    }
   ],
   "source": [
    "w_sum"
   ]
  },
  {
   "cell_type": "code",
   "execution_count": null,
   "id": "ca57895e-b542-448b-8108-24a021be2b00",
   "metadata": {},
   "outputs": [],
   "source": []
  }
 ],
 "metadata": {
  "kernelspec": {
   "display_name": "Python 3 (ipykernel)",
   "language": "python",
   "name": "python3"
  },
  "language_info": {
   "codemirror_mode": {
    "name": "ipython",
    "version": 3
   },
   "file_extension": ".py",
   "mimetype": "text/x-python",
   "name": "python",
   "nbconvert_exporter": "python",
   "pygments_lexer": "ipython3",
   "version": "3.13.7"
  },
  "widgets": {
   "application/vnd.jupyter.widget-state+json": {
    "state": {},
    "version_major": 2,
    "version_minor": 0
   }
  }
 },
 "nbformat": 4,
 "nbformat_minor": 5
}
